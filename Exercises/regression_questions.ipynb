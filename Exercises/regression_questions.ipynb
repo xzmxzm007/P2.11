{
 "cells": [
  {
   "cell_type": "markdown",
   "metadata": {},
   "source": [
    "# Regression"
   ]
  },
  {
   "cell_type": "markdown",
   "metadata": {},
   "source": [
    "We are going to work on a dataset about prices of houses in Boston. Our goal will be to predict the price of a house, knowing for example its number of rooms or its location. For this you will use the linear regression model that you saw this morning.\n",
    "\n",
    "This excercise is split into two parts : a first part where you will only use one variable and build your own sickit-learn estimator and a second part where you can use all the variables in the database and the linear regression model implemented in sickit-learn (http://scikit-learn.org/stable/modules/generated/sklearn.linear_model.LinearRegression.html)."
   ]
  },
  {
   "cell_type": "markdown",
   "metadata": {},
   "source": [
    "## Simple linear regression"
   ]
  },
  {
   "cell_type": "markdown",
   "metadata": {},
   "source": [
    "The goal of this first excercise is to build a simple linear model with one variable and visualize its results.\n",
    "We are going to study the relation between the price of a house and its number of rooms, using a simple linear regression.\n",
    "\n",
    "The dataset you are going to use can be found here (.../house_prices.tsv).\n",
    "Information about this dataset (including name and meaning of variables) can be found here (https://archive.ics.uci.edu/ml/machine-learning-databases/housing/housing.names).\n",
    "\n",
    "The target variable in our case is therefore \"MEDV\", the median value of a house. \n",
    "As predicting variable you should only use for now \"RM\", the average number of rooms.\n",
    "\n",
    "You should implement your solution creating a sickit-learn estimator of the following type : \n",
    "``` python\n",
    "class Estimator(base.BaseEstimator, base.RegressorMixin)\n",
    "    def __init__(self, ...):\n",
    "        # initialization code\n",
    "\n",
    "    def fit(self, X, y):\n",
    "        # fit the model ...\n",
    "        return self\n",
    "\n",
    "    def predict(self, X):\n",
    "        return # prediction\n",
    "```\n",
    "\n",
    "After fitting this estimator with observations of the database, you should use the predict method to plot the ouput of the model.\n",
    "This plot should be a combination of a scatter plot with all the observations of the dataset and a linear plot using the fitted model. If your model is correct, the linear plot should be \"close to\" the observations of the dataset.\n"
   ]
  },
  {
   "cell_type": "markdown",
   "metadata": {},
   "source": [
    "## Multiple linear regression"
   ]
  },
  {
   "cell_type": "markdown",
   "metadata": {},
   "source": [
    "After this introductory exercise, you are going to build a full model to predict the price of a house using all the variables of the dataset (excep MEDV of course!).\n",
    "\n",
    "In this case you can use the already built LinearRegression class of sickit-learn (http://scikit-learn.org/stable/modules/generated/sklearn.linear_model.LinearRegression.html), which works with the usual fit and predict methods.\n",
    "\n",
    "You should be careful to split your dataset in a training and testing set to avoid overfitting and score your model properly.\n",
    "\n",
    "In order to improve your model, you can apply some transformations on your dataset or optimize the parameters of the linear regression. If you see for example that one variable seems to behave like an inverse function with respect to the target variable, you can create a new variable equal to the inverse of the original variable. This new variable should behave more linearly with the target variable."
   ]
  }
 ],
 "metadata": {
  "kernelspec": {
   "display_name": "Python 2",
   "language": "python",
   "name": "python2"
  },
  "language_info": {
   "codemirror_mode": {
    "name": "ipython",
    "version": 2
   },
   "file_extension": ".py",
   "mimetype": "text/x-python",
   "name": "python",
   "nbconvert_exporter": "python",
   "pygments_lexer": "ipython2",
   "version": "2.7.13"
  }
 },
 "nbformat": 4,
 "nbformat_minor": 1
}
