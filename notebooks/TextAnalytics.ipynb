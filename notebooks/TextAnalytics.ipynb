{
 "cells": [
  {
   "cell_type": "code",
   "execution_count": 1,
   "metadata": {
    "collapsed": true
   },
   "outputs": [],
   "source": [
    "%matplotlib inline\n",
    "import matplotlib\n",
    "import matplotlib.pylab as plt\n",
    "import seaborn as sns\n",
    "matplotlib.rcParams['savefig.dpi'] = 144\n",
    "matplotlib.rcParams['figure.figsize'] = (10,7)\n",
    "matplotlib.rcParams['xtick.labelsize'] = 15\n",
    "matplotlib.rcParams['ytick.labelsize'] = 15\n",
    "matplotlib.rcParams['lines.markersize'] = 15\n",
    "import numpy as np"
   ]
  },
  {
   "cell_type": "markdown",
   "metadata": {},
   "source": [
    "# News articles example"
   ]
  },
  {
   "cell_type": "markdown",
   "metadata": {},
   "source": [
    "This example is taken from http://scikit-learn.org/stable/datasets/twenty_newsgroups.html"
   ]
  },
  {
   "cell_type": "markdown",
   "metadata": {},
   "source": [
    "### Load the dataset"
   ]
  },
  {
   "cell_type": "code",
   "execution_count": 2,
   "metadata": {},
   "outputs": [
    {
     "name": "stdout",
     "output_type": "stream",
     "text": [
      "['alt.atheism',\n",
      " 'comp.graphics',\n",
      " 'comp.os.ms-windows.misc',\n",
      " 'comp.sys.ibm.pc.hardware',\n",
      " 'comp.sys.mac.hardware',\n",
      " 'comp.windows.x',\n",
      " 'misc.forsale',\n",
      " 'rec.autos',\n",
      " 'rec.motorcycles',\n",
      " 'rec.sport.baseball',\n",
      " 'rec.sport.hockey',\n",
      " 'sci.crypt',\n",
      " 'sci.electronics',\n",
      " 'sci.med',\n",
      " 'sci.space',\n",
      " 'soc.religion.christian',\n",
      " 'talk.politics.guns',\n",
      " 'talk.politics.mideast',\n",
      " 'talk.politics.misc',\n",
      " 'talk.religion.misc']\n"
     ]
    }
   ],
   "source": [
    "from sklearn.datasets import fetch_20newsgroups\n",
    "from pprint import pprint\n",
    "\n",
    "newsgroups_train = fetch_20newsgroups(subset='train')\n",
    "pprint(list(newsgroups_train.target_names))\n",
    "# dataset contains 11314 news articles in english calssified in 20 categories"
   ]
  },
  {
   "cell_type": "code",
   "execution_count": 3,
   "metadata": {},
   "outputs": [
    {
     "name": "stdout",
     "output_type": "stream",
     "text": [
      "(11314,)\n",
      "(11314,)\n",
      "[ 7  4  4  1 14 16 13  3  2  4]\n"
     ]
    }
   ],
   "source": [
    "print newsgroups_train.filenames.shape\n",
    "print newsgroups_train.target.shape\n",
    "# the target is the index of the category stored in newsgroups_train.target_names\n",
    "# i.e.\n",
    "# target = 7 => rec.autos\n",
    "print newsgroups_train.target[:10]"
   ]
  },
  {
   "cell_type": "code",
   "execution_count": 4,
   "metadata": {},
   "outputs": [
    {
     "name": "stdout",
     "output_type": "stream",
     "text": [
      "['alt.atheism', 'sci.space']\n",
      "(1073,)\n",
      "(1073,)\n",
      "[0 1 1 1 0 1 1 0 0 0]\n",
      "(713,)\n",
      "(713,)\n",
      "[0 1 0 1 1 0 1 0 0 0]\n",
      "Number of articles about atheism: (480,)\n",
      "Number of articles about space: (593,)\n"
     ]
    }
   ],
   "source": [
    "# In the following we will restrict the DS to only 2 cathegories\n",
    "#       idx = 0      , idx = 1\n",
    "cats = ['alt.atheism', 'sci.space']\n",
    "newsgroups_train = fetch_20newsgroups(subset='train', categories=cats,remove=('headers', 'footers', 'quotes'))\n",
    "newsgroups_test = fetch_20newsgroups(subset='test', categories=cats,remove=('headers', 'footers', 'quotes'))\n",
    "print list(newsgroups_train.target_names)\n",
    "print newsgroups_train.filenames.shape\n",
    "print newsgroups_train.target.shape\n",
    "print newsgroups_train.target[:10]\n",
    "print newsgroups_test.filenames.shape\n",
    "print newsgroups_test.target.shape\n",
    "print newsgroups_test.target[:10]\n",
    "print \"Number of articles about atheism:\",newsgroups_train.target[newsgroups_train.target == 0 ].shape\n",
    "print \"Number of articles about space:\",newsgroups_train.target[newsgroups_train.target == 1 ].shape\n",
    "# the categories are well balanced we don't need to apply any rebalincing technique"
   ]
  },
  {
   "cell_type": "code",
   "execution_count": 5,
   "metadata": {},
   "outputs": [
    {
     "data": {
      "text/plain": [
       "u': \\n: >> Please enlighten me.  How is omnipotence contradictory?\\n: \\n: >By definition, all that can occur in the universe is governed by the rules\\n: >of nature. Thus god cannot break them. Anything that god does must be allowed\\n: >in the rules somewhere. Therefore, omnipotence CANNOT exist! It contradicts\\n: >the rules of nature.\\n: \\n: Obviously, an omnipotent god can change the rules.\\n\\nWhen you say, \"By definition\", what exactly is being defined;\\ncertainly not omnipotence. You seem to be saying that the \"rules of\\nnature\" are pre-existant somehow, that they not only define nature but\\nactually cause it. If that\\'s what you mean I\\'d like to hear your\\nfurther thoughts on the question.'"
      ]
     },
     "execution_count": 5,
     "metadata": {},
     "output_type": "execute_result"
    }
   ],
   "source": [
    "# the articles are stored as a list in newsgroups_train.data\n",
    "newsgroups_train.data[0]"
   ]
  },
  {
   "cell_type": "markdown",
   "metadata": {},
   "source": [
    "## From text to vectors"
   ]
  },
  {
   "cell_type": "code",
   "execution_count": 6,
   "metadata": {},
   "outputs": [
    {
     "name": "stdout",
     "output_type": "stream",
     "text": [
      "(1073, 18217)\n",
      "18217\n",
      "(1, 18217)\n",
      "Most frequent words:\n",
      "         1 the             10868\n",
      "         2 of               5611\n",
      "         3 to               5492\n",
      "         4 and              4286\n",
      "         5 is               3696\n",
      "         6 in               3274\n",
      "         7 that             3121\n",
      "         8 it               2513\n",
      "         9 for              2040\n",
      "        10 you              1844\n",
      "        11 be               1651\n",
      "        12 are              1536\n",
      "        13 this             1526\n",
      "        14 on               1517\n",
      "        15 not              1452\n",
      "        16 as               1328\n",
      "        17 have             1274\n",
      "        18 or               1077\n",
      "        19 but              1030\n",
      "        20 space             996\n"
     ]
    }
   ],
   "source": [
    "# CountVectorizer is a transformer\n",
    "from sklearn.feature_extraction.text import CountVectorizer\n",
    "\n",
    "cv = CountVectorizer()\n",
    "train_cv = cv.fit_transform(newsgroups_train.data)\n",
    "\n",
    "print train_cv.shape\n",
    "print len(cv.vocabulary_)\n",
    "\n",
    "total_word_count = train_cv.sum(axis = 0)\n",
    "print total_word_count.shape\n",
    "\n",
    "print \"Most frequent words:\"\n",
    "for idx in xrange(1,21):\n",
    "    vocabulary_index = total_word_count.argsort(axis=1)[0,-1*idx]\n",
    "    word = cv.get_feature_names()[vocabulary_index]\n",
    "    print \"{0:10} {1:10} {2:10}\".format(idx,word,total_word_count[0,vocabulary_index])\n",
    "\n",
    "# Here all the to 20 words are not significant at all! \n",
    "# They are actually words that should be not considered"
   ]
  },
  {
   "cell_type": "code",
   "execution_count": 7,
   "metadata": {},
   "outputs": [
    {
     "name": "stdout",
     "output_type": "stream",
     "text": [
      "(1073, 17919)\n",
      "17919\n",
      "(1, 17919)\n",
      "Most frequent words:\n",
      "         1 space             996\n",
      "         2 people            472\n",
      "         3 don               413\n",
      "         4 god               412\n",
      "         5 just              398\n",
      "         6 like              384\n",
      "         7 nasa              379\n",
      "         8 think             348\n",
      "         9 time              332\n",
      "        10 does              296\n",
      "        11 know              278\n",
      "        12 launch            268\n",
      "        13 earth             248\n",
      "        14 say               224\n",
      "        15 data              219\n",
      "        16 new               214\n",
      "        17 good              212\n",
      "        18 make              212\n",
      "        19 way               205\n",
      "        20 orbit             203\n"
     ]
    }
   ],
   "source": [
    "# Removing common english words: i.e. articles\n",
    "cv = CountVectorizer(stop_words='english')\n",
    "train_cv = cv.fit_transform(newsgroups_train.data)\n",
    "print train_cv.shape\n",
    "print len(cv.vocabulary_)\n",
    "\n",
    "total_word_count = train_cv.sum(axis = 0)\n",
    "print total_word_count.shape\n",
    "\n",
    "print \"Most frequent words:\"\n",
    "for idx in xrange(1,21):\n",
    "    vocabulary_index = total_word_count.argsort(axis=1)[0,-1*idx]\n",
    "    word = cv.get_feature_names()[vocabulary_index]\n",
    "    print \"{0:10} {1:10} {2:10}\".format(idx,word,total_word_count[0,vocabulary_index])\n",
    "    \n",
    "# By removing the english stopwords some words in the top\n",
    "# 20 starts to be significant to classify the 2 categories\n",
    "# we are considering: 'alt.atheism', 'sci.space' \n",
    "# -space\n",
    "# -nasa\n",
    "# -god\n",
    "# - ...\n",
    "# but the total number of feature is still huge (17919)"
   ]
  },
  {
   "cell_type": "code",
   "execution_count": 8,
   "metadata": {},
   "outputs": [
    {
     "name": "stdout",
     "output_type": "stream",
     "text": [
      "(1073, 1634)\n",
      "1634\n",
      "(1, 1634)\n",
      "Most frequent words:\n",
      "         1 space             996\n",
      "         2 people            472\n",
      "         3 don               413\n",
      "         4 god               412\n",
      "         5 just              398\n",
      "         6 like              384\n",
      "         7 nasa              379\n",
      "         8 think             348\n",
      "         9 time              332\n",
      "        10 does              296\n",
      "        11 know              278\n",
      "        12 launch            268\n",
      "        13 earth             248\n",
      "        14 say               224\n",
      "        15 data              219\n",
      "        16 new               214\n",
      "        17 good              212\n",
      "        18 make              212\n",
      "        19 way               205\n",
      "        20 orbit             203\n",
      "        21 atheism           199\n",
      "        22 believe           198\n",
      "        23 said              196\n",
      "        24 shuttle           192\n",
      "        25 use               189\n",
      "        26 satellite         187\n",
      "        27 edu               184\n",
      "        28 lunar             182\n",
      "        29 years             178\n",
      "        30 things            174\n",
      "        31 moon              169\n",
      "        32 world             164\n",
      "        33 long              164\n",
      "        34 program           163\n",
      "        35 atheists          162\n",
      "        36 true              160\n",
      "        37 example           159\n",
      "        38 year              158\n",
      "        39 used              158\n",
      "        40 religion          157\n",
      "        41 information        157\n",
      "        42 science           156\n",
      "        43 jesus             155\n",
      "        44 argument          153\n",
      "        45 ve                150\n",
      "        46 did               149\n",
      "        47 really            149\n",
      "        48 mission           147\n",
      "        49 right             146\n",
      "        50 point             144\n"
     ]
    }
   ],
   "source": [
    "# Removing words which are appearing in all documents\n",
    "# or appearing only in very few documents\n",
    "\n",
    "cv = CountVectorizer(stop_words='english',max_df = 0.9, min_df = 10)\n",
    "train_cv = cv.fit_transform(newsgroups_train.data)\n",
    "print train_cv.shape\n",
    "print len(cv.vocabulary_)\n",
    "\n",
    "total_word_count = train_cv.sum(axis = 0)\n",
    "print total_word_count.shape\n",
    "\n",
    "cv_top_20_words_position = {}\n",
    "\n",
    "print \"Most frequent words:\"\n",
    "for idx in xrange(1,51):\n",
    "    vocabulary_index = total_word_count.argsort(axis=1)[0,-1*idx]\n",
    "    word = cv.get_feature_names()[vocabulary_index]\n",
    "    print \"{0:10} {1:10} {2:10}\".format(idx,word,total_word_count[0,vocabulary_index])\n",
    "    cv_top_20_words_position[word]=idx\n",
    "\n",
    "\n",
    "# The relevant words are still in the top 20\n",
    "# but the total number of features is by far reduced"
   ]
  },
  {
   "cell_type": "markdown",
   "metadata": {},
   "source": [
    "## The TF-IDF transformation"
   ]
  },
  {
   "cell_type": "code",
   "execution_count": 12,
   "metadata": {},
   "outputs": [
    {
     "name": "stdout",
     "output_type": "stream",
     "text": [
      "(1073, 1634)\n",
      "(1, 1634)\n",
      "Most frequent words:\n",
      "         1 space           33.74 1         \n",
      "         2 just            26.85 5         \n",
      "         3 don             26.23 3         \n",
      "         4 think           25.40 8         \n",
      "         5 people          24.74 2         \n",
      "         6 like            24.51 6         \n",
      "         7 god             22.51 4         \n",
      "         8 know            20.42 11        \n",
      "         9 does            19.13 10        \n",
      "        10 time            17.59 9         \n",
      "        11 say             15.66 14        \n",
      "        12 nasa            15.50 7         \n",
      "        13 good            14.33 17        \n",
      "        14 things          14.08 30        \n",
      "        15 right           13.71 49        \n",
      "        16 said            13.17 23        \n",
      "        17 way             12.93 19        \n",
      "        18 make            12.91 18        \n",
      "        19 edu             12.90 27        \n",
      "        20 long            12.72 33        \n",
      "        21 did             12.45 46        \n",
      "        22 ve              11.98 45        \n",
      "        23 religion        11.83 40        \n",
      "        24 really          11.60 47        \n",
      "        25 believe         11.33 22        \n",
      "        26 use             11.31 25        \n",
      "        27 moon            11.29 31        \n",
      "        28 launch          11.18 12        \n",
      "        29 going           11.12 -         \n",
      "        30 orbit           11.11 20        \n",
      "        31 world           11.04 32        \n",
      "        32 thing           10.92 -         \n",
      "        33 earth           10.82 13        \n",
      "        34 thanks          10.78 -         \n",
      "        35 new             10.77 16        \n",
      "        36 post            10.62 -         \n",
      "        37 years           10.58 29        \n",
      "        38 need            10.57 -         \n",
      "        39 idea            10.40 -         \n",
      "        40 little          10.29 -         \n",
      "        41 actually        10.26 -         \n",
      "        42 better          10.14 -         \n",
      "        43 true            10.11 36        \n",
      "        44 isn              9.98 -         \n",
      "        45 didn             9.90 -         \n",
      "        46 atheism          9.88 21        \n",
      "        47 thought          9.81 -         \n",
      "        48 used             9.71 39        \n",
      "        49 sure             9.60 -         \n",
      "        50 mean             9.57 -         \n"
     ]
    }
   ],
   "source": [
    "from sklearn.feature_extraction.text import TfidfTransformer\n",
    "\n",
    "tfidf = TfidfTransformer()\n",
    "\n",
    "train_tfidf = tfidf.fit_transform(train_cv)\n",
    "print train_tfidf.shape\n",
    "\n",
    "total_word_tfidf = train_tfidf.sum(axis = 0)\n",
    "print total_word_tfidf.shape\n",
    "\n",
    "\n",
    "print \"Most frequent words:\"\n",
    "for idx in xrange(1,51):\n",
    "    vocabulary_index = total_word_tfidf.argsort(axis=1)[0,-1*idx]\n",
    "    word = cv.get_feature_names()[vocabulary_index]\n",
    "    old_position = '-'\n",
    "    if word in cv_top_20_words_position:\n",
    "        old_position=str(cv_top_20_words_position[word])\n",
    "    print \"{0:10} {1:10} {2:10.2f} {3:10}\".format(idx,word,float(total_word_tfidf[0,vocabulary_index]),old_position)\n",
    "\n"
   ]
  },
  {
   "cell_type": "markdown",
   "metadata": {},
   "source": [
    "## Classification "
   ]
  },
  {
   "cell_type": "code",
   "execution_count": 14,
   "metadata": {},
   "outputs": [
    {
     "name": "stdout",
     "output_type": "stream",
     "text": [
      "The accuracy of the model on the training set is: 0.9860205032618826\n"
     ]
    }
   ],
   "source": [
    "# Training\n",
    "from sklearn.tree import DecisionTreeClassifier\n",
    "\n",
    "dt = DecisionTreeClassifier(criterion='gini', \n",
    "                            splitter='best', \n",
    "                            max_depth=None, \n",
    "                            min_samples_split=2, \n",
    "                            min_samples_leaf=1, \n",
    "                            min_weight_fraction_leaf=0.0, \n",
    "                            max_features=None, \n",
    "                            random_state=1, \n",
    "                            max_leaf_nodes=None, \n",
    "                            class_weight=None, \n",
    "                            presort=False)\n",
    "\n",
    "dt.fit(train_tfidf,newsgroups_train.target)\n",
    "\n",
    "score_train = dt.score(train_tfidf,newsgroups_train.target)\n",
    "print \"The accuracy of the model on the training set is:\",score_train"
   ]
  },
  {
   "cell_type": "code",
   "execution_count": 15,
   "metadata": {},
   "outputs": [
    {
     "name": "stdout",
     "output_type": "stream",
     "text": [
      "The accuracy of the model on the training set is: 0.7727910238429172\n"
     ]
    }
   ],
   "source": [
    "# test\n",
    "test_cv = cv.transform(newsgroups_test.data)\n",
    "test_tfidf = tfidf.transform(test_cv)\n",
    "\n",
    "score_test = dt.score(test_tfidf,newsgroups_test.target)\n",
    "print \"The accuracy of the model on the training set is:\",score_test"
   ]
  },
  {
   "cell_type": "markdown",
   "metadata": {},
   "source": [
    "## How to optimise the model and how to industrialise"
   ]
  },
  {
   "cell_type": "markdown",
   "metadata": {},
   "source": [
    "### Pipeline "
   ]
  },
  {
   "cell_type": "code",
   "execution_count": 16,
   "metadata": {},
   "outputs": [
    {
     "name": "stdout",
     "output_type": "stream",
     "text": [
      "None\n",
      "10\n"
     ]
    },
    {
     "data": {
      "text/plain": [
       "Pipeline(memory=None,\n",
       "     steps=[('count_vectorizer', CountVectorizer(analyzer=u'word', binary=False, decode_error=u'strict',\n",
       "        dtype=<type 'numpy.int64'>, encoding=u'utf-8', input=u'content',\n",
       "        lowercase=True, max_df=0.9, max_features=None, min_df=10,\n",
       "        ngram_range=(1, 1), preprocessor=None, stop_words='en...         min_weight_fraction_leaf=0.0, presort=False, random_state=1,\n",
       "            splitter='best'))])"
      ]
     },
     "execution_count": 16,
     "metadata": {},
     "output_type": "execute_result"
    }
   ],
   "source": [
    "from sklearn import pipeline\n",
    "\n",
    "# pipelines allow you to group and manage all the steps of the analysis \n",
    "# in one object\n",
    "pipe = pipeline.Pipeline([\n",
    "                            ('count_vectorizer',CountVectorizer(stop_words='english',max_df = 0.9, min_df = 10)),\n",
    "                            ('tf_idf',TfidfTransformer()),\n",
    "                            ('model',DecisionTreeClassifier(random_state=1))\n",
    "                         ])\n",
    "\n",
    "# you can access to the object contained in each step and configure it\n",
    "count_vec_object = pipe.named_steps['count_vectorizer']\n",
    "\n",
    "# you can configure objects parameters\n",
    "print pipe.get_params()['model__max_depth']\n",
    "pipe.set_params(model__max_depth=10)\n",
    "print pipe.get_params()['model__max_depth']\n",
    "pipe.set_params(model__max_depth=None)"
   ]
  },
  {
   "cell_type": "code",
   "execution_count": 17,
   "metadata": {},
   "outputs": [
    {
     "name": "stdout",
     "output_type": "stream",
     "text": [
      "new training score is: 0.9860205032618826\n",
      "new test score is: 0.7727910238429172\n"
     ]
    }
   ],
   "source": [
    "pipe = pipe.fit(newsgroups_train.data,newsgroups_train.target)\n",
    "score_train_pipe = pipe.score(newsgroups_train.data,newsgroups_train.target)\n",
    "score_test_pipe = pipe.score(newsgroups_test.data,newsgroups_test.target)\n",
    "print \"new training score is:\",score_train_pipe\n",
    "print \"new test score is:\",score_test_pipe"
   ]
  },
  {
   "cell_type": "markdown",
   "metadata": {},
   "source": [
    "### Parameter optimisation: Grid Search "
   ]
  },
  {
   "cell_type": "code",
   "execution_count": 19,
   "metadata": {},
   "outputs": [
    {
     "name": "stdout",
     "output_type": "stream",
     "text": [
      "{'count_vectorizer__min_df': 1, 'model__max_depth': 19}\n"
     ]
    },
    {
     "data": {
      "text/html": [
       "<div>\n",
       "<style>\n",
       "    .dataframe thead tr:only-child th {\n",
       "        text-align: right;\n",
       "    }\n",
       "\n",
       "    .dataframe thead th {\n",
       "        text-align: left;\n",
       "    }\n",
       "\n",
       "    .dataframe tbody tr th {\n",
       "        vertical-align: top;\n",
       "    }\n",
       "</style>\n",
       "<table border=\"1\" class=\"dataframe\">\n",
       "  <thead>\n",
       "    <tr style=\"text-align: right;\">\n",
       "      <th></th>\n",
       "      <th>mean_fit_time</th>\n",
       "      <th>mean_score_time</th>\n",
       "      <th>mean_test_score</th>\n",
       "      <th>mean_train_score</th>\n",
       "      <th>param_count_vectorizer__min_df</th>\n",
       "      <th>param_model__max_depth</th>\n",
       "      <th>params</th>\n",
       "      <th>rank_test_score</th>\n",
       "      <th>split0_test_score</th>\n",
       "      <th>split0_train_score</th>\n",
       "      <th>split1_test_score</th>\n",
       "      <th>split1_train_score</th>\n",
       "      <th>std_fit_time</th>\n",
       "      <th>std_score_time</th>\n",
       "      <th>std_test_score</th>\n",
       "      <th>std_train_score</th>\n",
       "    </tr>\n",
       "  </thead>\n",
       "  <tbody>\n",
       "    <tr>\n",
       "      <th>0</th>\n",
       "      <td>0.218727</td>\n",
       "      <td>0.180340</td>\n",
       "      <td>0.637465</td>\n",
       "      <td>0.643061</td>\n",
       "      <td>1</td>\n",
       "      <td>1</td>\n",
       "      <td>{u'count_vectorizer__min_df': 1, u'model__max_...</td>\n",
       "      <td>321</td>\n",
       "      <td>0.631285</td>\n",
       "      <td>0.647388</td>\n",
       "      <td>0.643657</td>\n",
       "      <td>0.638734</td>\n",
       "      <td>0.014203</td>\n",
       "      <td>0.004752</td>\n",
       "      <td>0.006186</td>\n",
       "      <td>0.004327</td>\n",
       "    </tr>\n",
       "    <tr>\n",
       "      <th>1</th>\n",
       "      <td>0.233582</td>\n",
       "      <td>0.176044</td>\n",
       "      <td>0.628145</td>\n",
       "      <td>0.654251</td>\n",
       "      <td>1</td>\n",
       "      <td>2</td>\n",
       "      <td>{u'count_vectorizer__min_df': 1, u'model__max_...</td>\n",
       "      <td>334</td>\n",
       "      <td>0.612663</td>\n",
       "      <td>0.666045</td>\n",
       "      <td>0.643657</td>\n",
       "      <td>0.642458</td>\n",
       "      <td>0.000223</td>\n",
       "      <td>0.007286</td>\n",
       "      <td>0.015497</td>\n",
       "      <td>0.011793</td>\n",
       "    </tr>\n",
       "    <tr>\n",
       "      <th>2</th>\n",
       "      <td>0.248084</td>\n",
       "      <td>0.180127</td>\n",
       "      <td>0.649581</td>\n",
       "      <td>0.707385</td>\n",
       "      <td>1</td>\n",
       "      <td>3</td>\n",
       "      <td>{u'count_vectorizer__min_df': 1, u'model__max_...</td>\n",
       "      <td>297</td>\n",
       "      <td>0.636872</td>\n",
       "      <td>0.731343</td>\n",
       "      <td>0.662313</td>\n",
       "      <td>0.683426</td>\n",
       "      <td>0.006242</td>\n",
       "      <td>0.009773</td>\n",
       "      <td>0.012721</td>\n",
       "      <td>0.023958</td>\n",
       "    </tr>\n",
       "    <tr>\n",
       "      <th>3</th>\n",
       "      <td>0.250110</td>\n",
       "      <td>0.180609</td>\n",
       "      <td>0.648649</td>\n",
       "      <td>0.724176</td>\n",
       "      <td>1</td>\n",
       "      <td>4</td>\n",
       "      <td>{u'count_vectorizer__min_df': 1, u'model__max_...</td>\n",
       "      <td>298</td>\n",
       "      <td>0.635009</td>\n",
       "      <td>0.764925</td>\n",
       "      <td>0.662313</td>\n",
       "      <td>0.683426</td>\n",
       "      <td>0.005199</td>\n",
       "      <td>0.008435</td>\n",
       "      <td>0.013652</td>\n",
       "      <td>0.040749</td>\n",
       "    </tr>\n",
       "    <tr>\n",
       "      <th>4</th>\n",
       "      <td>0.261284</td>\n",
       "      <td>0.179659</td>\n",
       "      <td>0.657968</td>\n",
       "      <td>0.742803</td>\n",
       "      <td>1</td>\n",
       "      <td>5</td>\n",
       "      <td>{u'count_vectorizer__min_df': 1, u'model__max_...</td>\n",
       "      <td>284</td>\n",
       "      <td>0.635009</td>\n",
       "      <td>0.770522</td>\n",
       "      <td>0.680970</td>\n",
       "      <td>0.715084</td>\n",
       "      <td>0.003246</td>\n",
       "      <td>0.008235</td>\n",
       "      <td>0.022980</td>\n",
       "      <td>0.027719</td>\n",
       "    </tr>\n",
       "    <tr>\n",
       "      <th>5</th>\n",
       "      <td>0.253207</td>\n",
       "      <td>0.176831</td>\n",
       "      <td>0.670084</td>\n",
       "      <td>0.764236</td>\n",
       "      <td>1</td>\n",
       "      <td>6</td>\n",
       "      <td>{u'count_vectorizer__min_df': 1, u'model__max_...</td>\n",
       "      <td>261</td>\n",
       "      <td>0.640596</td>\n",
       "      <td>0.789179</td>\n",
       "      <td>0.699627</td>\n",
       "      <td>0.739292</td>\n",
       "      <td>0.002164</td>\n",
       "      <td>0.007995</td>\n",
       "      <td>0.029515</td>\n",
       "      <td>0.024943</td>\n",
       "    </tr>\n",
       "    <tr>\n",
       "      <th>6</th>\n",
       "      <td>0.253124</td>\n",
       "      <td>0.178224</td>\n",
       "      <td>0.675676</td>\n",
       "      <td>0.771698</td>\n",
       "      <td>1</td>\n",
       "      <td>7</td>\n",
       "      <td>{u'count_vectorizer__min_df': 1, u'model__max_...</td>\n",
       "      <td>249</td>\n",
       "      <td>0.651769</td>\n",
       "      <td>0.804104</td>\n",
       "      <td>0.699627</td>\n",
       "      <td>0.739292</td>\n",
       "      <td>0.007576</td>\n",
       "      <td>0.007652</td>\n",
       "      <td>0.023929</td>\n",
       "      <td>0.032406</td>\n",
       "    </tr>\n",
       "    <tr>\n",
       "      <th>7</th>\n",
       "      <td>0.250132</td>\n",
       "      <td>0.179036</td>\n",
       "      <td>0.706431</td>\n",
       "      <td>0.786608</td>\n",
       "      <td>1</td>\n",
       "      <td>8</td>\n",
       "      <td>{u'count_vectorizer__min_df': 1, u'model__max_...</td>\n",
       "      <td>197</td>\n",
       "      <td>0.666667</td>\n",
       "      <td>0.817164</td>\n",
       "      <td>0.746269</td>\n",
       "      <td>0.756052</td>\n",
       "      <td>0.006973</td>\n",
       "      <td>0.007078</td>\n",
       "      <td>0.039801</td>\n",
       "      <td>0.030556</td>\n",
       "    </tr>\n",
       "    <tr>\n",
       "      <th>8</th>\n",
       "      <td>0.278121</td>\n",
       "      <td>0.179761</td>\n",
       "      <td>0.718546</td>\n",
       "      <td>0.803378</td>\n",
       "      <td>1</td>\n",
       "      <td>9</td>\n",
       "      <td>{u'count_vectorizer__min_df': 1, u'model__max_...</td>\n",
       "      <td>147</td>\n",
       "      <td>0.674115</td>\n",
       "      <td>0.828358</td>\n",
       "      <td>0.763060</td>\n",
       "      <td>0.778399</td>\n",
       "      <td>0.008955</td>\n",
       "      <td>0.008378</td>\n",
       "      <td>0.044472</td>\n",
       "      <td>0.024980</td>\n",
       "    </tr>\n",
       "    <tr>\n",
       "      <th>9</th>\n",
       "      <td>0.264896</td>\n",
       "      <td>0.179096</td>\n",
       "      <td>0.720410</td>\n",
       "      <td>0.810838</td>\n",
       "      <td>1</td>\n",
       "      <td>10</td>\n",
       "      <td>{u'count_vectorizer__min_df': 1, u'model__max_...</td>\n",
       "      <td>139</td>\n",
       "      <td>0.677840</td>\n",
       "      <td>0.839552</td>\n",
       "      <td>0.763060</td>\n",
       "      <td>0.782123</td>\n",
       "      <td>0.008760</td>\n",
       "      <td>0.007973</td>\n",
       "      <td>0.042610</td>\n",
       "      <td>0.028715</td>\n",
       "    </tr>\n",
       "  </tbody>\n",
       "</table>\n",
       "</div>"
      ],
      "text/plain": [
       "   mean_fit_time  mean_score_time  mean_test_score  mean_train_score  \\\n",
       "0       0.218727         0.180340         0.637465          0.643061   \n",
       "1       0.233582         0.176044         0.628145          0.654251   \n",
       "2       0.248084         0.180127         0.649581          0.707385   \n",
       "3       0.250110         0.180609         0.648649          0.724176   \n",
       "4       0.261284         0.179659         0.657968          0.742803   \n",
       "5       0.253207         0.176831         0.670084          0.764236   \n",
       "6       0.253124         0.178224         0.675676          0.771698   \n",
       "7       0.250132         0.179036         0.706431          0.786608   \n",
       "8       0.278121         0.179761         0.718546          0.803378   \n",
       "9       0.264896         0.179096         0.720410          0.810838   \n",
       "\n",
       "  param_count_vectorizer__min_df param_model__max_depth  \\\n",
       "0                              1                      1   \n",
       "1                              1                      2   \n",
       "2                              1                      3   \n",
       "3                              1                      4   \n",
       "4                              1                      5   \n",
       "5                              1                      6   \n",
       "6                              1                      7   \n",
       "7                              1                      8   \n",
       "8                              1                      9   \n",
       "9                              1                     10   \n",
       "\n",
       "                                              params  rank_test_score  \\\n",
       "0  {u'count_vectorizer__min_df': 1, u'model__max_...              321   \n",
       "1  {u'count_vectorizer__min_df': 1, u'model__max_...              334   \n",
       "2  {u'count_vectorizer__min_df': 1, u'model__max_...              297   \n",
       "3  {u'count_vectorizer__min_df': 1, u'model__max_...              298   \n",
       "4  {u'count_vectorizer__min_df': 1, u'model__max_...              284   \n",
       "5  {u'count_vectorizer__min_df': 1, u'model__max_...              261   \n",
       "6  {u'count_vectorizer__min_df': 1, u'model__max_...              249   \n",
       "7  {u'count_vectorizer__min_df': 1, u'model__max_...              197   \n",
       "8  {u'count_vectorizer__min_df': 1, u'model__max_...              147   \n",
       "9  {u'count_vectorizer__min_df': 1, u'model__max_...              139   \n",
       "\n",
       "   split0_test_score  split0_train_score  split1_test_score  \\\n",
       "0           0.631285            0.647388           0.643657   \n",
       "1           0.612663            0.666045           0.643657   \n",
       "2           0.636872            0.731343           0.662313   \n",
       "3           0.635009            0.764925           0.662313   \n",
       "4           0.635009            0.770522           0.680970   \n",
       "5           0.640596            0.789179           0.699627   \n",
       "6           0.651769            0.804104           0.699627   \n",
       "7           0.666667            0.817164           0.746269   \n",
       "8           0.674115            0.828358           0.763060   \n",
       "9           0.677840            0.839552           0.763060   \n",
       "\n",
       "   split1_train_score  std_fit_time  std_score_time  std_test_score  \\\n",
       "0            0.638734      0.014203        0.004752        0.006186   \n",
       "1            0.642458      0.000223        0.007286        0.015497   \n",
       "2            0.683426      0.006242        0.009773        0.012721   \n",
       "3            0.683426      0.005199        0.008435        0.013652   \n",
       "4            0.715084      0.003246        0.008235        0.022980   \n",
       "5            0.739292      0.002164        0.007995        0.029515   \n",
       "6            0.739292      0.007576        0.007652        0.023929   \n",
       "7            0.756052      0.006973        0.007078        0.039801   \n",
       "8            0.778399      0.008955        0.008378        0.044472   \n",
       "9            0.782123      0.008760        0.007973        0.042610   \n",
       "\n",
       "   std_train_score  \n",
       "0         0.004327  \n",
       "1         0.011793  \n",
       "2         0.023958  \n",
       "3         0.040749  \n",
       "4         0.027719  \n",
       "5         0.024943  \n",
       "6         0.032406  \n",
       "7         0.030556  \n",
       "8         0.024980  \n",
       "9         0.028715  "
      ]
     },
     "execution_count": 19,
     "metadata": {},
     "output_type": "execute_result"
    }
   ],
   "source": [
    "from sklearn.model_selection import GridSearchCV\n",
    "from pandas import DataFrame\n",
    "\n",
    "gs = GridSearchCV(\n",
    "                    pipe,\n",
    "                    {\n",
    "                        \"count_vectorizer__min_df\": range(1,10)+range(10,30,5),\n",
    "                        \"model__max_depth\": range(1,20)+range(30,100,10)\n",
    "                    },\n",
    "                    cv=2,  # 5-fold cross validation\n",
    "                    n_jobs=-1,  # run each hyperparameter in one of two parallel jobs\n",
    "                    scoring=\"accuracy\" # what could happen selecting \"precision\" as scoring measure?\n",
    "                )\n",
    "\n",
    "gs.fit(newsgroups_train.data,newsgroups_train.target)\n",
    "\n",
    "print gs.best_params_\n",
    "results = DataFrame(data = gs.cv_results_)\n",
    "results.head(10)"
   ]
  },
  {
   "cell_type": "code",
   "execution_count": 20,
   "metadata": {},
   "outputs": [
    {
     "data": {
      "text/plain": [
       "<matplotlib.legend.Legend at 0x10492bc90>"
      ]
     },
     "execution_count": 20,
     "metadata": {},
     "output_type": "execute_result"
    },
    {
     "data": {
      "image/png": "[encoded data removed]",
      "text/plain": [
       "<matplotlib.figure.Figure at 0x1a0ad8a390>"
      ]
     },
     "metadata": {},
     "output_type": "display_data"
    }
   ],
   "source": [
    "\n",
    "for idx,mdf in enumerate([1,3,4,10,15,25]):\n",
    "    x = results[results['param_count_vectorizer__min_df']==mdf]['param_model__max_depth']\n",
    "    y = results[results['param_count_vectorizer__min_df']==mdf]['mean_test_score']\n",
    "\n",
    "    plt.plot(x,y,'.',label='{0}'.format(mdf))\n",
    "\n",
    "plt.legend()"
   ]
  },
  {
   "cell_type": "code",
   "execution_count": 21,
   "metadata": {},
   "outputs": [
    {
     "data": {
      "text/plain": [
       "<matplotlib.legend.Legend at 0x1a0b59d350>"
      ]
     },
     "execution_count": 21,
     "metadata": {},
     "output_type": "execute_result"
    },
    {
     "data": {
      "image/png": "[encoded data removed]",
      "text/plain": [
       "<matplotlib.figure.Figure at 0x1a0b449a50>"
      ]
     },
     "metadata": {},
     "output_type": "display_data"
    }
   ],
   "source": [
    "for idx,depth in enumerate([10,20,30,40,50]):\n",
    "    x = results[results['param_model__max_depth']==depth]['param_count_vectorizer__min_df']\n",
    "    y = results[results['param_model__max_depth']==depth]['mean_test_score']\n",
    "\n",
    "    plt.plot(x,y,'.',label='{0}'.format(depth))\n",
    "\n",
    "plt.legend()\n"
   ]
  },
  {
   "cell_type": "code",
   "execution_count": 22,
   "metadata": {},
   "outputs": [
    {
     "name": "stdout",
     "output_type": "stream",
     "text": [
      "Training score 0.9822926374650512\n",
      "Test score 0.7812061711079944\n"
     ]
    }
   ],
   "source": [
    "pipe.set_params(model__max_depth=60,count_vectorizer__min_df=1)\n",
    "pipe = pipe.fit(newsgroups_train.data,newsgroups_train.target)\n",
    "\n",
    "score_test = pipe.score(newsgroups_test.data,newsgroups_test.target)\n",
    "score_train = pipe.score(newsgroups_train.data,newsgroups_train.target)\n",
    "\n",
    "print \"Training score\",score_train\n",
    "print \"Test score\",score_test"
   ]
  },
  {
   "cell_type": "code",
   "execution_count": 23,
   "metadata": {},
   "outputs": [
    {
     "name": "stdout",
     "output_type": "stream",
     "text": [
      "         1 - space     0.198765067842\n",
      "         2 - god       0.0911538477779\n",
      "         3 - religion  0.0488623030489\n",
      "         4 - orbit     0.032935769761\n",
      "         5 - nasa      0.02822352499\n",
      "         6 - people    0.025659909952\n",
      "         7 - like      0.0254729279709\n",
      "         8 - morality  0.0238706002653\n",
      "         9 - bobby     0.0207441386666\n",
      "        10 - high      0.0161890443811\n",
      "        11 - argument  0.0159206355849\n",
      "        12 - launch    0.0150566849727\n",
      "        13 - right     0.0133194470459\n",
      "        14 - islamic   0.0128183832637\n",
      "        15 - post      0.0121948769423\n",
      "        16 - religious 0.0118596488793\n",
      "        17 - bible     0.0112754297227\n",
      "        18 - wrong     0.0112742566566\n",
      "        19 - stay      0.0112116150148\n",
      "        20 - cruel     0.0109071717865\n",
      "        21 - agree     0.010887063121\n",
      "        22 - got       0.0106098718589\n",
      "        23 - objective 0.0104708849151\n",
      "        24 - ve        0.0104250126967\n",
      "        25 - bit       0.0100298595563\n",
      "        26 - aren      0.00881805387856\n",
      "        27 - example   0.00832325049682\n",
      "        28 - say       0.00832093100908\n",
      "        29 - imagine   0.00818060420059\n",
      "        30 - atheist   0.00807328425286\n",
      "        31 - fraering  0.00773522522351\n",
      "        32 - makes     0.00772752333726\n",
      "        33 - humans    0.00752680844539\n",
      "        34 - islam     0.00733381335704\n",
      "        35 - timmons   0.0071481471961\n",
      "        36 - know      0.00696162989445\n",
      "        37 - word      0.00671804819986\n",
      "        38 - hillary   0.00657661560618\n",
      "        39 - just      0.00654737085002\n",
      "        40 - laws      0.00643960278105\n",
      "        41 - animals   0.00630682746598\n",
      "        42 - theory    0.00617811670137\n",
      "        43 - given     0.00616108567934\n",
      "        44 - jews      0.00605330626296\n",
      "        45 - false     0.0059322401377\n",
      "        46 - local     0.00588579828825\n",
      "        47 - syllogism 0.00578891271972\n",
      "        48 - keith     0.00569439985899\n",
      "        49 - forget    0.00560218285723\n",
      "        50 - important 0.00551218795189\n"
     ]
    }
   ],
   "source": [
    "for idx in xrange(1,51):\n",
    "    vocabulary_index = pipe.named_steps['model'].feature_importances_.argsort(axis=0)[-1*idx]\n",
    "    relevance = pipe.named_steps['model'].feature_importances_[vocabulary_index]\n",
    "    word = pipe.named_steps['count_vectorizer'].get_feature_names()[vocabulary_index]\n",
    "    \n",
    "    print \"{0:10} - {1:10}{2:10}\".format(idx,word,relevance)"
   ]
  },
  {
   "cell_type": "code",
   "execution_count": 24,
   "metadata": {},
   "outputs": [
    {
     "name": "stdout",
     "output_type": "stream",
     "text": [
      "593\n"
     ]
    }
   ],
   "source": [
    "# to understand\n",
    "cats = ['sci.space']\n",
    "newsgroups_space = fetch_20newsgroups(subset='train', categories=cats,remove=('headers', 'footers', 'quotes'))\n",
    "print len(newsgroups_space.data)"
   ]
  },
  {
   "cell_type": "code",
   "execution_count": 25,
   "metadata": {},
   "outputs": [
    {
     "name": "stdout",
     "output_type": "stream",
     "text": [
      "(1, 214)\n"
     ]
    }
   ],
   "source": [
    "cv_ds = pipe.named_steps['count_vectorizer'].transform(newsgroups_space.data)\n",
    "space_idx = pipe.named_steps['count_vectorizer'].vocabulary_['space']\n",
    "\n",
    "entry_where_space_is_present = cv_ds[cv_ds[:,space_idx]>0]\n",
    "print entry_where_space_is_present.shape"
   ]
  }
 ],
 "metadata": {
  "kernelspec": {
   "display_name": "Python 2",
   "language": "python",
   "name": "python2"
  },
  "language_info": {
   "codemirror_mode": {
    "name": "ipython",
    "version": 2
   },
   "file_extension": ".py",
   "mimetype": "text/x-python",
   "name": "python",
   "nbconvert_exporter": "python",
   "pygments_lexer": "ipython2",
   "version": "2.7.12"
  }
 },
 "nbformat": 4,
 "nbformat_minor": 2
}
